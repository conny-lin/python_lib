{
 "cells": [
  {
   "cell_type": "code",
   "execution_count": null,
   "metadata": {},
   "outputs": [],
   "source": [
    "# function collections to process MWT data\n",
    "# Conny Lin | June 5, 2020 | Updated: June 5, 2020"
   ]
  },
  {
   "cell_type": "code",
   "execution_count": null,
   "metadata": {},
   "outputs": [],
   "source": [
    "# test\n",
    "def testadd(x):\n",
    "    return x+1"
   ]
  },
  {
   "cell_type": "code",
   "execution_count": null,
   "metadata": {},
   "outputs": [],
   "source": [
    "def create_id_array_by_rows(id_list, row_number_list):\n",
    "    # get row total\n",
    "    row_total = df_sample['row_number'].sum()\n",
    "    # declare array\n",
    "    worm_id_array = np.empty([row_total,1],dtype='int')\n",
    "    worm_id_list = df_sample['worm_id'].values\n",
    "    rows_per_worm_list = df_sample['row_number'].values\n",
    "    i_row_previous = 0\n",
    "    for worm_id, rows in zip(worm_id_list, rows_per_worm_list):\n",
    "        # get start row position\n",
    "        i_start_row = i_row_previous\n",
    "        # get end row position\n",
    "        i_end_row = i_row_previous+rows-1\n",
    "        print(i_row_previous, worm_id, rows, i_start_row, i_end_row)\n",
    "        # get worm id array x number of rows\n",
    "        worm_id_array[i_start_row:i_end_row+1,0] = np.tile(worm_id, rows)\n",
    "        # create next starting position\n",
    "        i_row_previous = rows+i_row_previous"
   ]
  },
  {
   "cell_type": "code",
   "execution_count": null,
   "metadata": {},
   "outputs": [],
   "source": []
  },
  {
   "cell_type": "code",
   "execution_count": null,
   "metadata": {},
   "outputs": [],
   "source": []
  }
 ],
 "metadata": {
  "kernelspec": {
   "display_name": "Python 3",
   "language": "python",
   "name": "python3"
  },
  "language_info": {
   "codemirror_mode": {
    "name": "ipython",
    "version": 3
   },
   "file_extension": ".py",
   "mimetype": "text/x-python",
   "name": "python",
   "nbconvert_exporter": "python",
   "pygments_lexer": "ipython3",
   "version": "3.7.7"
  }
 },
 "nbformat": 4,
 "nbformat_minor": 4
}
