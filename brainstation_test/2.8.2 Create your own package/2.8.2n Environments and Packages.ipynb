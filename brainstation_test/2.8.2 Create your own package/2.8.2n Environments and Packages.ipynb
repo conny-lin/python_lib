{
 "cells": [
  {
   "cell_type": "markdown",
   "metadata": {},
   "source": [
    "<div id=\"container\" style=\"position:relative;\">\n",
    "<div style=\"float:left\"><h1> Environments and Packages</h1></div>\n",
    "<div style=\"position:relative; float:right\"><img style=\"height:65px\" src =\"https://drive.google.com/uc?export=view&id=1EnB0x-fdqMp6I5iMoEBBEuxB_s7AmE2k\" />\n",
    "</div>\n",
    "</div>"
   ]
  },
  {
   "cell_type": "markdown",
   "metadata": {},
   "source": [
    "### Python Admin\n",
    "\n",
    "We previously installed Anaconda and it is now time to have a deeper discussion about its function.\n",
    "\n",
    "Anaconda is a distribution of Python that comes with the Python language and the basic library. This library includes the standard packages, like unittest, itertools, sys, time and functools, there are also many dedicated data science packages like NumPy and Pandas.\n",
    "\n",
    "What happens if we want to install more packages? Anaconda comes with a package manager, Conda, which we can use for this. \n",
    "\n",
    "We call Conda from the command line, not inside Python. Depending on our system setup, we might need to restart the notebook we are running or the whole server if we either update or install a package.\n",
    "\n",
    "One of the more interesting ways of automating testing is using a new package called `hypothesis`, which is not in Anaconda by default:"
   ]
  },
  {
   "cell_type": "code",
   "execution_count": 1,
   "metadata": {},
   "outputs": [
    {
     "ename": "ModuleNotFoundError",
     "evalue": "No module named 'thisdoesnotexist'",
     "output_type": "error",
     "traceback": [
      "\u001b[0;31m---------------------------------------------------------------------------\u001b[0m",
      "\u001b[0;31mModuleNotFoundError\u001b[0m                       Traceback (most recent call last)",
      "\u001b[0;32m<ipython-input-1-07bc3e357e3e>\u001b[0m in \u001b[0;36m<module>\u001b[0;34m\u001b[0m\n\u001b[1;32m      1\u001b[0m \u001b[0;31m#import hypothesis\u001b[0m\u001b[0;34m\u001b[0m\u001b[0;34m\u001b[0m\u001b[0;34m\u001b[0m\u001b[0m\n\u001b[0;32m----> 2\u001b[0;31m \u001b[0;32mimport\u001b[0m \u001b[0mthisdoesnotexist\u001b[0m\u001b[0;34m\u001b[0m\u001b[0;34m\u001b[0m\u001b[0m\n\u001b[0m",
      "\u001b[0;31mModuleNotFoundError\u001b[0m: No module named 'thisdoesnotexist'"
     ]
    }
   ],
   "source": [
    "#import hypothesis\n",
    "import thisdoesnotexist"
   ]
  },
  {
   "cell_type": "markdown",
   "metadata": {},
   "source": [
    "Reading the error, we have no module called `hypothesis`.\n",
    "\n",
    "So, how do we install it? Let's head to the command line.\n",
    "\n",
    "If you are using a Mac, open up terminal and if you are using Windows, open up Anaconda Prompt. \n",
    "\n",
    "*Note: Anaconda Prompt is a command line interface that is used to execute anaconda based commands*\n",
    "\n",
    "```bash\n",
    "conda install hypothesis\n",
    "```\n",
    "\n",
    "This should do some magic and download and install the package. Once complete, try to run the cell below."
   ]
  },
  {
   "cell_type": "code",
   "execution_count": 2,
   "metadata": {},
   "outputs": [
    {
     "data": {
      "text/plain": [
       "0"
      ]
     },
     "execution_count": 2,
     "metadata": {},
     "output_type": "execute_result"
    }
   ],
   "source": [
    "from hypothesis import given\n",
    "import hypothesis.strategies as s\n",
    "\n",
    "\n",
    "@given(s.integers())\n",
    "def test_abs(x):\n",
    "    assert abs(x) >= 0\n",
    "\n",
    "test_data = s.integers()\n",
    "test_data.example()"
   ]
  },
  {
   "cell_type": "code",
   "execution_count": 3,
   "metadata": {},
   "outputs": [],
   "source": [
    "test_abs()"
   ]
  },
  {
   "cell_type": "markdown",
   "metadata": {},
   "source": [
    "If running the above cell worked, great! \n",
    "\n",
    "#### Troubleshooting \n",
    "\n",
    "If it didn't try:\n",
    "\n",
    "1. Restart the kernel and run all above cells again.\n",
    "2. If Step 1 doesn't work, close down Jupyter (including any terminal or Anaconda Prompt windows) and restart it. Then try running all above cells. "
   ]
  },
  {
   "cell_type": "markdown",
   "metadata": {},
   "source": [
    "Don't worry if you don't understand the code in the above cell. The `hypothesis` package carries out property-based tests. We tell it to give us some integers, decorate our tests, and it gives us some interesting corner cases and some more normal ones. We can then pass that into our tests and hope they work. We will not use this package now, we have just installed it to showcase the use of `conda install`.\n",
    "\n",
    "\n",
    "\n",
    "### Pip\n",
    "\n",
    "Pip, short for Pip Installs Packages, also installs packages. It is the default package manager for Python, but in data science it is generally replaced by `conda`. However, there are sometimes packages which are either not in `conda`, or they are on an older version on `conda`. In this case you can use pip, similarly to `conda`:\n",
    "\n",
    "```bash\n",
    "pip install somepackage\n",
    "```\n",
    "\n",
    "`pip` and `conda` **do not** play very well together, so we will stick to `conda` where possible. The packages that we install comes from either the [conda repo](https://anaconda.org/anaconda/repo) or the [PyPI](https://pypi.org/). In general, `conda` contains data science and its related tools. It is heavily curated and is a little slow to update. PyPI contains everything, is not curated and is very easy to publish to (we could write our own package if we wanted). [PyPi has had some recent security concerns](https://www.bytelion.com/pypi-python-package-hack/), so use your judgment when installing any package from PyPi. Conda also tries to distribute binaries- some more complicated packages require compilation from source from PyPI.\n",
    "\n",
    "If we want the bleeding edge form `conda`, we can use `conda-forge`, an alternate list of curated packages which is kept more up to date than `conda`:\n",
    "\n",
    "```bash\n",
    "conda config --add channels conda-forge\n",
    "```\n",
    "\n",
    "PyPI is generally already bleeding edge, you can also install any package from github using the following sample `pip` code:\n",
    "\n",
    "```bash\n",
    "pip install git+git://github.com/user/package.git\n",
    "```\n",
    "\n",
    "### Conda Updating \n",
    "\n",
    "As well as installing new packages, we can update a package/packages to fix bugs, add features, or take advantage of speedups.\n",
    "\n",
    "```bash\n",
    "conda update pandas\n",
    "```\n",
    "\n",
    "Great, our pandas is now up to date:"
   ]
  },
  {
   "cell_type": "code",
   "execution_count": 4,
   "metadata": {},
   "outputs": [
    {
     "name": "stdout",
     "output_type": "stream",
     "text": [
      "0.24.2\n"
     ]
    }
   ],
   "source": [
    "import pandas as pd\n",
    "print(pd.__version__)"
   ]
  },
  {
   "cell_type": "markdown",
   "metadata": {},
   "source": [
    "You will often get a `conda` (or `pip`) warning that it is out of date. Luckily, `conda` and `pip` are Python packages themselves:\n",
    "\n",
    "```bash\n",
    "conda update conda\n",
    "```\n",
    "\n",
    "This should get the updates done.\n",
    "\n",
    "But wait! What if we needed a specific version of pandas for our process? It is pretty common for a newer package to break older code, either in a deprecated function, or an update to the arguments.\n",
    "\n",
    "Additionally, if we are working on a shared machine we might accidentally break someone else's work flow by doing this. It is easy enough to update your own code, but if prod goes down thanks to a package update, you might encounter some issues. \n",
    "\n",
    "### Virtual Environments and Kernels\n",
    "\n",
    "Luckily, this is a problem that can be solved. Conda can create a virtual environment, which allows us to update, install, remove and play around without breaking anything else.\n",
    "\n",
    "There are other similar packages, `pipenv`, `virtualenv`, and `virtualenvwrapper` that work in the same way.\n",
    "\n",
    "By using a virtual environment, we are more or less allowing ourselves to install a dedicated Python version for any use we want. We could set up a `virutalenv` for each of our main analyses, and keep different packages installed at different versions, switch between different versions of Python, or make test environments to have testing or developing version of common packages.\n",
    "\n",
    "To get started, use the `conda info` command to list our current environments:\n",
    "\n",
    "```bash\n",
    "conda info --envs\n",
    "```\n",
    "\n",
    "You probably only have root/base.\n",
    "\n",
    "Let's make a new one, called myenv:\n",
    "\n",
    "```bash\n",
    "conda create -n myenv\n",
    "```\n",
    "\n",
    "we use `-n` to give the environment a name. If we are on a shared system, we might want to use -p for a path, so that we can point other users to the shared location.\n",
    "\n",
    "To switch between environments we use the `conda activate` command. This runs the script activate, inside the environment, which switches the required things around to allow us to run our new version:"
   ]
  },
  {
   "cell_type": "markdown",
   "metadata": {},
   "source": [
    "```bash\n",
    "(base)$ conda activate myenv\n",
    "```\n",
    "\n",
    "Now we can run Python, or a notebook from our shiny new environment. You can see that your command-line prompt has switched to include the name of your environment.\n",
    "Type `python` into your new environment using anaconda prompt (windows) or terminal (mac)\n",
    "\n",
    "```bash\n",
    "(myenv)$ python\n",
    "Python 3.7.3 (default, Mar 27 2019, 16:54:48) \n",
    "[Clang 4.0.1 (tags/RELEASE_401/final)] :: Anaconda, Inc. on darwin\n",
    "Type \"help\", \"copyright\", \"credits\" or \"license\" for more information.\n",
    ">>>\n",
    "```"
   ]
  },
  {
   "cell_type": "markdown",
   "metadata": {},
   "source": [
    "---\n",
    "\n",
    "**Note: Mac default is still Python 2.7.16**\n",
    "\n",
    "* type exit() to exit the enviroment\n",
    "\n",
    "type:\n",
    "\n",
    "    $ conda install python==3.7\n",
    "\n",
    "This should activate installation process. \n",
    "\n",
    "---"
   ]
  },
  {
   "cell_type": "markdown",
   "metadata": {},
   "source": [
    "\n",
    "and let's get started:\n",
    "\n",
    "```\n",
    ">>> import pandas as pd\n",
    "```\n",
    "\n",
    "It isn't there.....\n",
    "\n",
    "Remember, we installed a new version of Python! We did not include any packages, other than the ones we specified in the initial create command. This let's start fresh.\n",
    "\n",
    "Now we can install and set up the new environment as we want. We need to be in our environment, in order to install to it.\n",
    "\n",
    "Once your environment is active, you can install to it using `conda` or `pip`, and it will not affect any other environments on the machine.\n",
    "\n",
    "We can leave it by deactivating:\n",
    "\n",
    "```bash\n",
    "(myenv)$ conda deactivate\n",
    "(base)$\n",
    "```"
   ]
  },
  {
   "cell_type": "markdown",
   "metadata": {},
   "source": [
    "**install packages**\n",
    "\n",
    "conda install numpy pandas==0.24.2 scikit-learn statsmodels"
   ]
  },
  {
   "cell_type": "markdown",
   "metadata": {},
   "source": [
    "#### How can we run a notebook from our new environment?\n",
    "\n",
    "One way is to add our environment as a kernel to jupyter. This means we are going to use our environment as a context to run our notebooks in.\n",
    "\n",
    "Let's first install jupyter in our newly created environment:\n",
    "\n",
    "```bash\n",
    "(myenv)$ conda install jupyter\n",
    "...\n",
    "...\n",
    "...\n",
    "Preparing transaction: done\n",
    "Verifying transaction: done\n",
    "Executing transaction: done\n",
    "```"
   ]
  },
  {
   "cell_type": "markdown",
   "metadata": {},
   "source": [
    "Now we are going to add our environment as a kernel by typing the following:\n",
    "\n",
    "```bash\n",
    "(myenv)$ ipython kernel install --name \"myenv\" --user\n",
    "```\n",
    "\n",
    "This should happen very quickly. We have added our new environment as a kernel (execution context) into our jupyter framework.\n",
    "\n",
    "Let's deactivate the environment and then run jupyter again:\n",
    "\n",
    "```bash\n",
    "(myenv)$ conda deactivate\n",
    "(base)$ jupyter notebook\n",
    "```\n",
    "\n",
    "<img src=\"https://drive.google.com/uc?export=view&id=1Jr4LT16A4cZnwfExM_q6dXQ3fOOyO8bF\">"
   ]
  },
  {
   "cell_type": "markdown",
   "metadata": {},
   "source": [
    "Now when selecting to create a new notebook you can see your new environment as a kernel.\n",
    "\n",
    "<img src=\"https://drive.google.com/uc?export=view&id=1kcKKCZDQvjQRpXVVqOIU5q00lSGOr_Z0\">"
   ]
  },
  {
   "cell_type": "markdown",
   "metadata": {},
   "source": [
    "However...\n",
    "\n",
    "\n",
    "When you open a new notebook and try to load our favorite libraries\n",
    "<img src=\"https://drive.google.com/uc?export=view&id=12HEvq5N1iTJaxBveaw-G0xiM0MWfCZO1\">"
   ]
  },
  {
   "cell_type": "markdown",
   "metadata": {},
   "source": [
    "We need to install those libraries in the new environment. We could do so in the terminal:"
   ]
  },
  {
   "cell_type": "markdown",
   "metadata": {},
   "source": [
    "```bash\n",
    "(base)$ conda activate myenv\n",
    "(myenv)$ conda install numpy pandas\n",
    "```\n"
   ]
  },
  {
   "cell_type": "markdown",
   "metadata": {},
   "source": [
    "Alternatively, we can create a new environment with our desired libraries inside by specifying them upon creation:\n",
    "```bash\n",
    "(base)$ conda create -n newenv numpy pandas\n",
    "...\n",
    "...\n",
    "...\n",
    "Downloading and Extracting Packages\n",
    "pandas-1.0.2         | 10.2 MB   | ############################################################ | 100% \n",
    "Preparing transaction: done\n",
    "Verifying transaction: done\n",
    "Executing transaction: done\n",
    "```"
   ]
  },
  {
   "cell_type": "markdown",
   "metadata": {},
   "source": [
    "### Sharing Environments\n",
    "\n",
    "What if we want to copy an existing environment, detail our setup, or allow someone on another system to copy us? We can clone an existing environment into a new location:\n",
    "\n",
    "```bash\n",
    "\n",
    "conda create -n my_clone --clone myenv\n",
    "\n",
    "```\n",
    "One reason we might do this is to install test packages or try other modifications.\n",
    "\n",
    "\n",
    "If we want to list all of our installed packages:\n",
    "\n",
    "```bash\n",
    "conda list --explicit\n",
    "```\n",
    "\n",
    "We can pipe this to an output file using `>`, and keep it as a file.\n",
    "\n",
    "Once you have this file, you can create a new env using it:\n",
    "\n",
    "```bash\n",
    "conda create -n mynewenv --file myenvfile.txt\n",
    "```"
   ]
  },
  {
   "cell_type": "markdown",
   "metadata": {},
   "source": [
    "### Deleting Environments\n",
    "\n",
    "To remove an environment, we can use the following command:\n",
    "\n",
    "```bash\n",
    "conda remove --name myenv --all\n",
    "```\n",
    "\n",
    "Be careful with this command, as you can't get an environment back!\n",
    "\n",
    "We can check if we still have the environment:\n",
    "\n",
    "```bash\n",
    "conda info --envs\n",
    "```"
   ]
  },
  {
   "cell_type": "markdown",
   "metadata": {},
   "source": [
    "---\n",
    "#### Exercise 1\n",
    "\n",
    "1. Create a new environment, with `pandas` in it.\n",
    "2. Activate that environment, enter `python` and check your `pandas` version.\n",
    "3. Install NumPy, Scipy and one other package.\n",
    "4. Export the env file, and send it to a classmate.\n",
    "5. Create a new env, from the file from this classmate.\n",
    "---"
   ]
  },
  {
   "cell_type": "markdown",
   "metadata": {},
   "source": [
    "1. Create a new environment, with `pandas` in it.\n",
    "\n",
    "`conda create -n exercise1env`\n",
    "\n",
    "`conda activate exercise1env`\n",
    "\n",
    "`conda install python==3.7`\n",
    "\n",
    "`conda install pandas`\n",
    "\n",
    "\n",
    "2. Activate that environment, enter `python` and check your `pandas` version.\n",
    "\n",
    "`python`\n",
    "\n",
    "`import pandas`\n",
    "\n",
    "`print(pandas.__version__)`\n",
    "\n",
    "\n",
    "\n",
    "\n",
    "3. Install NumPy, Scipy and one other package.\n",
    "\n",
    "`exit()` - exit python\n",
    "`conda install Numpy scipy statsmodel`\n",
    "\n",
    "4. Export the env file, and send it to a classmate.\n",
    "\n",
    "`conda deactivate`\n",
    "\n",
    "`conda list --explicit > \"envfile.txt\"`\n",
    "\n",
    "\n",
    "5. Create a new env, from the file from this classmate.\n",
    "\n",
    "`conda create -n newenv2 --file classmateenv.txt`\n"
   ]
  },
  {
   "cell_type": "markdown",
   "metadata": {},
   "source": [
    "### Creating Our Own Packages (Bonus)\n",
    "\n",
    "We can create a python file, and as long as it was in the correct location, we could import from it:\n",
    "\n",
    "myscript.py:\n",
    "```python\n",
    "def myfunc():\n",
    "    print('hello world')\n",
    "    return 1\n",
    "```"
   ]
  },
  {
   "cell_type": "code",
   "execution_count": 1,
   "metadata": {},
   "outputs": [],
   "source": [
    "%load_ext autoreload\n",
    "%autoreload 2"
   ]
  },
  {
   "cell_type": "code",
   "execution_count": 2,
   "metadata": {},
   "outputs": [
    {
     "name": "stdout",
     "output_type": "stream",
     "text": [
      "hello world\n"
     ]
    },
    {
     "data": {
      "text/plain": [
       "1"
      ]
     },
     "execution_count": 2,
     "metadata": {},
     "output_type": "execute_result"
    }
   ],
   "source": [
    "import myscript\n",
    "\n",
    "myscript.myfunc()"
   ]
  },
  {
   "cell_type": "markdown",
   "metadata": {},
   "source": [
    "How can we make this better? We want to be able to share and not worry about script location.\n",
    "\n",
    "We can use the python packaging system. This will allow us to create our own package, share it, and even eventually publish it on PyPI.\n",
    "\n",
    "*see [reference](https://pip.pypa.io/en/stable/quickstart/)*\n",
    "\n",
    "Let's call our package `mypackage`.\n",
    "\n",
    "The file/folder setup is simple enough:\n",
    "\n",
    "```\n",
    "mypackage/\n",
    "    mypackage/\n",
    "        __init__.py\n",
    "        myscript.py\n",
    "        tests/\n",
    "            __init__.py\n",
    "            testmyscript.py\n",
    "    setup.py\n",
    "```"
   ]
  },
  {
   "cell_type": "markdown",
   "metadata": {},
   "source": [
    "---\n",
    "**create shell script**\n",
    "\n",
    "touch create_py_package_folders.sh\n",
    "\n",
    "open create_py_package_folders.sh\n",
    "\n",
    "mkdir -p mypackage/mypackage/tests\n",
    "\n",
    "---"
   ]
  },
  {
   "cell_type": "markdown",
   "metadata": {},
   "source": [
    "What goes in each of these files?\n",
    "\n",
    "The `__init__.py` file allows us to have multiple files to hold our submodules and choose which functions get imported to the global namespace. if we type in `import mypackage`, we run the `__init__.py`.\n",
    "\n",
    "Let's make sure we import our function:\n",
    "\n",
    "`__init__.py`:\n",
    "\n",
    "```python\n",
    "from .myscript import myfunc\n",
    "```\n",
    "\n",
    "Now we need to add a `setup.py`. This tells python details about our package. We provide these as a call to setuptools.setup:\n",
    "\n",
    "```python\n",
    "from setuptools import setup\n",
    "\n",
    "setup(name='mypackage',\n",
    "      version='0.1',\n",
    "      description='my awesome package',\n",
    "      url='www.example.com',\n",
    "      author='Me',\n",
    "      packages=['mypackage'])\n",
    "```\n",
    "\n",
    "We now have the minimal setup needed for a package, let's install it:\n",
    "\n",
    "```bash\n",
    "pip install -e mypackage\n",
    "python\n",
    "```"
   ]
  },
  {
   "cell_type": "code",
   "execution_count": 1,
   "metadata": {},
   "outputs": [
    {
     "ename": "AttributeError",
     "evalue": "module 'mypackage' has no attribute 'myfunc'",
     "output_type": "error",
     "traceback": [
      "\u001b[0;31m---------------------------------------------------------------------------\u001b[0m",
      "\u001b[0;31mAttributeError\u001b[0m                            Traceback (most recent call last)",
      "\u001b[0;32m<ipython-input-1-2eaaa34505e7>\u001b[0m in \u001b[0;36m<module>\u001b[0;34m\u001b[0m\n\u001b[1;32m      1\u001b[0m \u001b[0;31m# in python\u001b[0m\u001b[0;34m\u001b[0m\u001b[0;34m\u001b[0m\u001b[0;34m\u001b[0m\u001b[0m\n\u001b[1;32m      2\u001b[0m \u001b[0;32mimport\u001b[0m \u001b[0mmypackage\u001b[0m\u001b[0;34m\u001b[0m\u001b[0;34m\u001b[0m\u001b[0m\n\u001b[0;32m----> 3\u001b[0;31m \u001b[0mmypackage\u001b[0m\u001b[0;34m.\u001b[0m\u001b[0mmyfunc\u001b[0m\u001b[0;34m(\u001b[0m\u001b[0;34m)\u001b[0m\u001b[0;34m\u001b[0m\u001b[0;34m\u001b[0m\u001b[0m\n\u001b[0m",
      "\u001b[0;31mAttributeError\u001b[0m: module 'mypackage' has no attribute 'myfunc'"
     ]
    }
   ],
   "source": [
    "# in python\n",
    "import mypackage\n",
    "mypackage.myfunc()"
   ]
  },
  {
   "cell_type": "markdown",
   "metadata": {},
   "source": [
    "Let's add a little more. We might want to enforce a package to come with ours:\n",
    "\n",
    "We can add:\n",
    "```\n",
    "install_requires=[\n",
    "          'numpy',\n",
    "      ]\n",
    "```\n",
    "to our setup.py.\n",
    "\n",
    "To add in our tests, we can put them in the tests directroy:\n",
    "\n",
    "```python\n",
    "import unittest\n",
    "import mypackage\n",
    "\n",
    "class TestFunc(unittest.TestCase):\n",
    "    def test_func(self):\n",
    "        self.assertEqual(mypackage.myfunc(),1)\n",
    "\n",
    "if __name__ == '__main__':\n",
    "    unittest.main()\n",
    "\n",
    "```\n",
    "\n",
    "We can leave the `__init__.py` in this directory empty (or not even make one).\n",
    "\n",
    "We can run our test like so:\n",
    "\n",
    "```bash\n",
    "python tests/testmyscript.py \n",
    "```\n",
    "\n",
    "But we can also use a testing package to find all our tests in the package, and run them (right now we only have one, but we might add more and more):\n",
    "\n",
    "```bash\n",
    "pip install nose\n",
    "```\n",
    "\n",
    "and adding\n",
    "\n",
    "```python\n",
    "    test_suite='nose.collector',\n",
    "    tests_require=['nose'],\n",
    "```\n",
    "\n",
    "to our setuptools.\n",
    "\n",
    "Now we can run\n",
    "\n",
    "```bash\n",
    "python setup.py test\n",
    "```\n",
    "\n",
    "or\n",
    "\n",
    "```bash\n",
    "nosetests\n",
    "```\n",
    "\n",
    "to run all our tests."
   ]
  },
  {
   "cell_type": "markdown",
   "metadata": {},
   "source": [
    "---\n",
    "#### Exercise 2\n",
    "\n",
    "1. Write a lbs_to_kg function and make it into a package.\n",
    "\n",
    "2. Make sure you have your tests added, and that they all work with the python setup.py test command\n",
    "\n",
    "3. Zip your package, and send it to another classmate to install.\n",
    "\n",
    "4. Make sure it installs!\n",
    "---"
   ]
  },
  {
   "cell_type": "markdown",
   "metadata": {},
   "source": [
    "That is it for packaging. Take a look at NumPy's [github repo](https://github.com/numpy/numpy). You can see it follows the basics, but it adds more submodules, has some READMEs, and extra files. We have covered the basics. As you make more complicated packages, you will get closer to NumPys layout."
   ]
  },
  {
   "cell_type": "markdown",
   "metadata": {},
   "source": [
    "<div id=\"container\" style=\"position:relative;\">\n",
    "<div style=\"position:relative; float:right\"><img style=\"height:25px\"\"width: 50px\" src =\"https://drive.google.com/uc?export=view&id=14VoXUJftgptWtdNhtNYVm6cjVmEWpki1\" />\n",
    "</div>\n",
    "</div>"
   ]
  }
 ],
 "metadata": {
  "hide_input": false,
  "kernelspec": {
   "display_name": "Python 3",
   "language": "python",
   "name": "python3"
  },
  "language_info": {
   "codemirror_mode": {
    "name": "ipython",
    "version": 3
   },
   "file_extension": ".py",
   "mimetype": "text/x-python",
   "name": "python",
   "nbconvert_exporter": "python",
   "pygments_lexer": "ipython3",
   "version": "3.7.7"
  }
 },
 "nbformat": 4,
 "nbformat_minor": 4
}
